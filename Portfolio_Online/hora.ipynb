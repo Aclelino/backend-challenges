{
 "cells": [
  {
   "cell_type": "code",
   "execution_count": 82,
   "id": "535edcd4",
   "metadata": {},
   "outputs": [],
   "source": [
    "''' Relogio v1 by Aclelino Dev ...1 de junho de 2022 '''\n",
    "\n",
    "class Relogio():\n",
    "    \n",
    "    def _init_(self):\n",
    "        pass\n",
    "        \n",
    "    # Função de configurar a hora\n",
    "    \n",
    "    def ajuste(self,h,m):\n",
    "\n",
    "        self.s = 0\n",
    "        self.m = m\n",
    "        self.h = h \n",
    "        \n",
    "        \n",
    "    # Estrutura de Repetição\n",
    "        while True:\n",
    "            \n",
    "    # Tempo de pause em looop\n",
    "            \n",
    "            time.sleep(1.0)\n",
    "            \n",
    "    # Imprimi os valor na tela no Loop     \n",
    "    \n",
    "            print( self.h,\":\",self.m,\":\",self.s)\n",
    "    \n",
    "    # ajuta o tempo em segundo \n",
    "    \n",
    "            if  self.s <=59:\n",
    "                self.s += 1\n",
    "                \n",
    "                if self.s == 60:\n",
    "                    self.m += 1\n",
    "                    self.s = 0\n",
    "                    \n",
    "                \n",
    "    # ajuta o tempo em minutos\n",
    "            \n",
    "            if self.m >= 60:\n",
    "                self.h += 1       \n",
    "                self.m = 0\n",
    "                \n",
    "    # ajuta o tempo em Horas   \n",
    "    \n",
    "            if self.h >=24 :\n",
    "                self.h = 0"
   ]
  },
  {
   "cell_type": "code",
   "execution_count": null,
   "id": "27e3a733",
   "metadata": {
    "scrolled": false
   },
   "outputs": [],
   "source": [
    "# Abrir a classe relogio \n",
    "\n",
    "relod = Relogio() \n",
    "\n",
    "# Receber o valor em inteiro do horario a ajustar\n",
    "\n",
    "h = int(input(\"Horas: \"))\n",
    "m = int(input(\"Minutos: \"))\n",
    "\n",
    "# execultar a classe com o dados do Horario ajustado \n",
    "\n",
    "relod.ajuste(h,m)"
   ]
  },
  {
   "cell_type": "code",
   "execution_count": null,
   "id": "911c94ce",
   "metadata": {},
   "outputs": [],
   "source": []
  }
 ],
 "metadata": {
  "kernelspec": {
   "display_name": "Python 3",
   "language": "python",
   "name": "python3"
  },
  "language_info": {
   "codemirror_mode": {
    "name": "ipython",
    "version": 3
   },
   "file_extension": ".py",
   "mimetype": "text/x-python",
   "name": "python",
   "nbconvert_exporter": "python",
   "pygments_lexer": "ipython3",
   "version": "3.8.8"
  }
 },
 "nbformat": 4,
 "nbformat_minor": 5
}
