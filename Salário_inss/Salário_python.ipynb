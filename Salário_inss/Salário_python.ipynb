{
 "cells": [
  {
   "cell_type": "markdown",
   "id": "1b0a71a3",
   "metadata": {},
   "source": [
    "Faça um Programa que pergunte quanto você ganha por hora e o número de horas trabalhadas no mês. Calcule e mostre o total do seu salário no referido mês, sabendo-se que são descontados 11% para o Imposto de Renda, 8% para o INSS e 5% para o sindicato, faça um programa que nos dê:\n",
    "salário bruto.\n",
    "quanto pagou ao INSS.\n",
    "quanto pagou ao sindicato.\n",
    "o salário líquido.\n",
    "calcule os descontos e o salário líquido, conforme a tabela abaixo:\n",
    "+ Salário Bruto : R$\n",
    "- IR (11%) : R$\n",
    "- INSS (8%) : R$\n",
    "- Sindicato ( 5%) : R$\n",
    "= Salário Liquido : R$"
   ]
  },
  {
   "cell_type": "code",
   "execution_count": 85,
   "id": "6620a1d3",
   "metadata": {},
   "outputs": [],
   "source": [
    "class Salario():\n",
    "    \n",
    "    def __init__(self,hora,hora_trabalhado):\n",
    "        self.hora = hora\n",
    "        self.hora_trabalhado = hora_trabalhado\n",
    "        \n",
    "    def imprime(self):\n",
    "        \n",
    "        print('+ Salário Bruto: R$',self.salario_bruto())\n",
    "        print('- IR (11%) :R$',self.ir())\n",
    "        print('- INSS (8%) : R$',self.inss())\n",
    "        print('- Sindicato (5%) :R$',self.sindicato())\n",
    "        print('= Salario Liquido :R$',self.salario_liquido())\n",
    "    \n",
    "    def salario_bruto(self):\n",
    "        \n",
    "        self.salario_bruto = self.hora * self.hora_trabalhado\n",
    "        \n",
    "        return self.salario_bruto\n",
    "    \n",
    "    def salario_liquido(self):\n",
    "        \n",
    "        salario_bruto = self.hora * self.hora_trabalhado\n",
    "        \n",
    "        inss = 8\n",
    "        ir = 11\n",
    "        sindicato = 5\n",
    "    \n",
    "        tributos = (inss + ir + sindicato) * salario_bruto/100\n",
    "        valor_bruto = tributos - salario_bruto \n",
    "        \n",
    "        return -valor_bruto \n",
    "    \n",
    "    def inss(self):\n",
    "        self.inss = 8\n",
    "        self.salario = self.hora * self.hora_trabalhado\n",
    "        self.valor_inss = self.salario * self.inss/100\n",
    "        \n",
    "        return self.valor_inss\n",
    "    \n",
    "    def ir(self):\n",
    "        self.ir = 11\n",
    "        self.salario = self.hora * self.hora_trabalhado\n",
    "        self.valor_ir = self.salario * self.ir/100\n",
    "\n",
    "        return self.valor_ir\n",
    "    \n",
    "    def sindicato(self):\n",
    "        self.sindicato = 5\n",
    "        self.salario = self.hora * self.hora_trabalhado\n",
    "        self.valor_sindicato = self.salario * self.sindicato/100\n",
    "\n",
    "        return self.valor_sindicato\n",
    "    \n",
    "    "
   ]
  },
  {
   "cell_type": "code",
   "execution_count": 86,
   "id": "12ea930e",
   "metadata": {},
   "outputs": [
    {
     "name": "stdout",
     "output_type": "stream",
     "text": [
      "Quantos você recebe por Horas?: 44\n",
      "Quantos dias você trabalhou no mẽs ?: 25\n"
     ]
    }
   ],
   "source": [
    "valor_hora = int(input('Quantos você recebe por Horas?: '))\n",
    "dias_trabalhado_mes = int(input('Quantos dias você trabalhou no mẽs ?: '))"
   ]
  },
  {
   "cell_type": "code",
   "execution_count": 87,
   "id": "8df905e5",
   "metadata": {},
   "outputs": [],
   "source": [
    "salario = Salario(valor_hora,dias_trabalhado_mes)"
   ]
  },
  {
   "cell_type": "code",
   "execution_count": 88,
   "id": "9af1af2c",
   "metadata": {},
   "outputs": [
    {
     "name": "stdout",
     "output_type": "stream",
     "text": [
      "+ Salário Bruto: R$ 1100\n",
      "- IR (11%) :R$ 121.0\n",
      "- INSS (8%) : R$ 88.0\n",
      "- Sindicato (5%) :R$ 55.0\n",
      "= Salario Liquido :R$ 836.0\n"
     ]
    }
   ],
   "source": [
    "salario.imprime()"
   ]
  }
 ],
 "metadata": {
  "kernelspec": {
   "display_name": "Python 3",
   "language": "python",
   "name": "python3"
  },
  "language_info": {
   "codemirror_mode": {
    "name": "ipython",
    "version": 3
   },
   "file_extension": ".py",
   "mimetype": "text/x-python",
   "name": "python",
   "nbconvert_exporter": "python",
   "pygments_lexer": "ipython3",
   "version": "3.8.8"
  }
 },
 "nbformat": 4,
 "nbformat_minor": 5
}
