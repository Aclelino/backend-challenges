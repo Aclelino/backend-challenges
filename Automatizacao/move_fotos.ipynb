{
 "cells": [
  {
   "cell_type": "markdown",
   "id": "e8d2b563",
   "metadata": {},
   "source": [
    "<h1><red> Automatização de arquivos Jpeg , jpg , png"
   ]
  },
  {
   "cell_type": "code",
   "execution_count": 11,
   "id": "3bcc24f6",
   "metadata": {},
   "outputs": [],
   "source": [
    "# importa o modulo os\n",
    "import os"
   ]
  },
  {
   "cell_type": "code",
   "execution_count": 12,
   "id": "eb65e0ae",
   "metadata": {},
   "outputs": [],
   "source": [
    "# Local e destino dos arquivos\n",
    "local = \"/home/aclelino/Downloads/\"\n",
    "destino = \"/home/aclelino/Imagens/\"\n",
    "\n",
    "# passar o local para o modulo os\n",
    "get = os.listdir(local)"
   ]
  },
  {
   "cell_type": "code",
   "execution_count": 13,
   "id": "b0a66bfc",
   "metadata": {},
   "outputs": [
    {
     "name": "stdout",
     "output_type": "stream",
     "text": [
      "Imagens movido para  /home/aclelino/Imagens/\n",
      "Captura de tela de 2022-08-06 18-37-01.png\n",
      "Imagens movido para  /home/aclelino/Imagens/\n",
      "Captura de tela de 2022-09-11 08-53-20.png\n",
      "Imagens movido para  /home/aclelino/Imagens/\n",
      "Captura de tela de 2022-08-04 00-29-56.png\n",
      "Imagens movido para  /home/aclelino/Imagens/\n",
      "Imagens movido para  /home/aclelino/Imagens/\n",
      "Captura de tela de 2022-07-20 19-15-06.png\n",
      "Imagens movido para  /home/aclelino/Imagens/\n",
      "Imagens movido para  /home/aclelino/Imagens/\n",
      "Captura de tela de 2022-08-10 12-19-06.png\n",
      "Imagens movido para  /home/aclelino/Imagens/\n",
      "Captura de tela de 2022-09-07 19-30-45.png\n",
      "Imagens movido para  /home/aclelino/Imagens/\n",
      "Captura de tela de 2022-08-28 13-32-54.png\n",
      "Imagens movido para  /home/aclelino/Imagens/\n",
      "Imagens movido para  /home/aclelino/Imagens/\n",
      "Captura de tela de 2022-08-12 12-50-07.png\n",
      "Imagens movido para  /home/aclelino/Imagens/\n",
      "Imagens movido para  /home/aclelino/Imagens/\n",
      "Imagens movido para  /home/aclelino/Imagens/\n"
     ]
    }
   ],
   "source": [
    "# loop para carregar so arquivos com final Jpg ou Jpeg e mover para o destino . \n",
    "\n",
    "for i in get:\n",
    "    if 'jpg' in i:\n",
    "        os.replace(local + i ,destino + i)\n",
    "        print(\"Imagens movido para \",destino)\n",
    "    elif 'jpeg' in i:\n",
    "        print(i)\n",
    "        os.replace(local + i ,destino + i)\n",
    "        print(\"Imagens movido para \",destino)\n",
    "    elif 'png' in i:\n",
    "        print(i)\n",
    "        os.replace(local + i ,destino + i)\n",
    "        print(\"Imagens movido para \",destino)"
   ]
  },
  {
   "cell_type": "code",
   "execution_count": null,
   "id": "b9f21ce8",
   "metadata": {},
   "outputs": [],
   "source": []
  }
 ],
 "metadata": {
  "kernelspec": {
   "display_name": "Python 3",
   "language": "python",
   "name": "python3"
  },
  "language_info": {
   "codemirror_mode": {
    "name": "ipython",
    "version": 3
   },
   "file_extension": ".py",
   "mimetype": "text/x-python",
   "name": "python",
   "nbconvert_exporter": "python",
   "pygments_lexer": "ipython3",
   "version": "3.8.8"
  }
 },
 "nbformat": 4,
 "nbformat_minor": 5
}
